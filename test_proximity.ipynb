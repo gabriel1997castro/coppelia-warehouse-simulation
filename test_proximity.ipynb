{
 "cells": [
  {
   "cell_type": "code",
   "execution_count": 96,
   "metadata": {},
   "outputs": [
    {
     "name": "stdout",
     "output_type": "stream",
     "text": [
      "Connected to remote API server\n"
     ]
    }
   ],
   "source": [
    "#!/usr/bin/env python3\n",
    "# -*- coding: utf-8 -*-\n",
    "\"\"\"\n",
    "Created on Mon May  3 00:42:53 2021\n",
    "\n",
    "@author: gabriel\n",
    "\"\"\"\n",
    "\n",
    "import sim\n",
    "import sys\n",
    "import time\n",
    "import numpy as np\n",
    "sys.path.append(\"./objects\")\n",
    "from Robot import Robot\n",
    "\n",
    "cam_name = 'cam1'\n",
    "sim.simxFinish(-1) # just in case, close all opened connections\n",
    "\n",
    "clientID=sim.simxStart('127.0.0.1',19997,True,True,5000,5) # Connect to CoppeliaSim\n",
    "\n",
    "front_range = [3, 4, 5, 6]\n",
    "front_left_range = [1, 2, 3]\n",
    "front_right_range = [6, 7, 8]\n",
    "back_right_range = [9, 10, 11]\n",
    "back_range = [11, 12, 13, 14]\n",
    "back_left_range = [14, 15, 16]\n",
    "\n",
    "    \n",
    "if clientID!=-1:\n",
    "    print ('Connected to remote API server')\n",
    "else:\n",
    "    print ('Connection could not be established')\n",
    "    sys.exit(\"Could not connect\")\n",
    "    \n",
    "def measure_distance(arr):\n",
    "    arr = np.array(arr)\n",
    "    return np.sqrt(arr.dot(arr))\n",
    "    \n",
    "def verify_detection_arr(detection_state, distances):\n",
    "#     print('distances:', distances)\n",
    "    for i in range(len(distances)):\n",
    "        if (distances[i] < 0.3 and detection_state[i] == True):\n",
    "            return True\n",
    "    return False\n"
   ]
  },
  {
   "cell_type": "code",
   "execution_count": 97,
   "metadata": {},
   "outputs": [],
   "source": [
    "\n",
    "def config_sensors():\n",
    "    for i in front_range:\n",
    "        s_str = 'Pioneer_p3dx_ultrasonicSensor{}'.format(i) #sensor str\n",
    "\n",
    "        error, sensor[i-1] = sim.simxGetObjectHandle(clientID, s_str , sim.simx_opmode_oneshot_wait)\n",
    "        error, detection_state[i-1], dp[i-1], dop[i-1], dsnv[i-1] = sim.simxReadProximitySensor(\n",
    "            clientID, sensor[i-1], sim.simx_opmode_streaming)\n",
    "        distances[i-1] = measure_distance(dp[i-1])\n",
    "\n",
    "def verify_front_collision():\n",
    "    for i in front_range:\n",
    "        errorCode, detection_state[i-1], dp[i-1], dop[i-1], dsnv[i-1] = sim.simxReadProximitySensor(clientID, sensor[i-1], sim.simx_opmode_buffer)\n",
    "        distances[i-1] = measure_distance(dp[i-1])\n",
    "    collision = verify_detection_arr([detection_state[i-1] for i in front_range], [distances[i-1] for i in front_range])\n",
    "    return collision\n",
    "    # time.sleep(2)\n",
    "    # Pioneer.turnRight()\n",
    "    # time.sleep(2)\n",
    "    # Pioneer.moveBackward()\n",
    "    # time.sleep(2)\n",
    "    # Pioneer.moveForward()\n",
    "    # time.sleep(6)\n",
    "    \n",
    "#    errorCode, left_motor_handle = sim.simxGetObjectHandle(clientID, 'Pioneer_p3dx_leftMotor', sim.simx_opmode_oneshot_wait)\n",
    "#    errorCode, right_motor_handle = sim.simxGetObjectHandle(clientID, 'Pioneer_p3dx_rightMotor', sim.simx_opmode_oneshot_wait)\n",
    "    \n",
    "#    errorCode=sim.simxSetJointTargetVelocity(clientID, left_motor_handle, 0.8, sim.simx_opmode_streaming)\n",
    "#    errorCode=sim.simxSetJointTargetVelocity(clientID, right_motor_handle, 0.8, sim.simx_opmode_streaming)\n",
    "    \n",
    "#    \n",
    "    \n",
    "#    errorCam0, camera_handle = sim.simxGetObjectHandle(clientID, cam_name, sim.simx_opmode_oneshot_wait)\n",
    "            # Start the Stream\n",
    "#    errorCam1, res, image = sim.simxGetVisionSensorImage(clientID, camera_handle, 0, sim.simx_opmode_streaming)\n",
    " \n",
    "\n",
    "\n",
    "#errorCode, cam_handle = sim.simxGetObjectHandle(clientID, 'cam1', sim.simx_opmode_oneshot_wait)\n",
    "#errorCode, resolution, image = sim.simxGetVisionSensorImage(clientID, cam_handle, 0, sim.simx_opmode_streaming)\n",
    "#errorCode, resolution, image = sim.simxGetVisionSensorImage(clientID, cam_handle, 0, sim.simx_opmode_buffer)\n"
   ]
  },
  {
   "cell_type": "code",
   "execution_count": 98,
   "metadata": {},
   "outputs": [],
   "source": [
    "if __name__ == \"__main__\":\n",
    "    main()"
   ]
  },
  {
   "cell_type": "code",
   "execution_count": null,
   "metadata": {},
   "outputs": [],
   "source": []
  },
  {
   "cell_type": "code",
   "execution_count": null,
   "metadata": {},
   "outputs": [],
   "source": []
  }
 ],
 "metadata": {
  "kernelspec": {
   "display_name": "Python 3",
   "language": "python",
   "name": "python3"
  },
  "language_info": {
   "codemirror_mode": {
    "name": "ipython",
    "version": 3
   },
   "file_extension": ".py",
   "mimetype": "text/x-python",
   "name": "python",
   "nbconvert_exporter": "python",
   "pygments_lexer": "ipython3",
   "version": "3.8.5"
  }
 },
 "nbformat": 4,
 "nbformat_minor": 4
}
